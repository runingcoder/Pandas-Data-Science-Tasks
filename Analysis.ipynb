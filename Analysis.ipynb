{
 "cells": [
  {
   "cell_type": "code",
   "execution_count": 270,
   "id": "e454c585",
   "metadata": {},
   "outputs": [],
   "source": [
    "import pandas as pd\n",
    "import os\n",
    "import matplotlib.pyplot as plt\n",
    "import numpy as np"
   ]
  },
  {
   "cell_type": "code",
   "execution_count": 6,
   "id": "46f68f6d",
   "metadata": {},
   "outputs": [],
   "source": [
    "df = pd.read_csv(\"./SalesAnalysis/Sales_Data/Sales_December_2019.csv\")"
   ]
  },
  {
   "cell_type": "code",
   "execution_count": 47,
   "id": "570c0834",
   "metadata": {},
   "outputs": [],
   "source": [
    "# df.head()"
   ]
  },
  {
   "cell_type": "code",
   "execution_count": 9,
   "id": "74eb0300",
   "metadata": {},
   "outputs": [],
   "source": [
    "# df1 = pd.read_csv(\"./raw_tracks.csv\")"
   ]
  },
  {
   "cell_type": "code",
   "execution_count": 45,
   "id": "cb3bcc8f",
   "metadata": {},
   "outputs": [],
   "source": [
    "# df1.head()"
   ]
  },
  {
   "cell_type": "code",
   "execution_count": 46,
   "id": "5b0aadc4",
   "metadata": {
    "scrolled": true
   },
   "outputs": [
    {
     "data": {
      "text/html": [
       "<div>\n",
       "<style scoped>\n",
       "    .dataframe tbody tr th:only-of-type {\n",
       "        vertical-align: middle;\n",
       "    }\n",
       "\n",
       "    .dataframe tbody tr th {\n",
       "        vertical-align: top;\n",
       "    }\n",
       "\n",
       "    .dataframe thead th {\n",
       "        text-align: right;\n",
       "    }\n",
       "</style>\n",
       "<table border=\"1\" class=\"dataframe\">\n",
       "  <thead>\n",
       "    <tr style=\"text-align: right;\">\n",
       "      <th></th>\n",
       "      <th>Order ID</th>\n",
       "      <th>Product</th>\n",
       "      <th>Quantity Ordered</th>\n",
       "      <th>Price Each</th>\n",
       "      <th>Order Date</th>\n",
       "      <th>Purchase Address</th>\n",
       "    </tr>\n",
       "  </thead>\n",
       "  <tbody>\n",
       "    <tr>\n",
       "      <th>0</th>\n",
       "      <td>209921</td>\n",
       "      <td>USB-C Charging Cable</td>\n",
       "      <td>1</td>\n",
       "      <td>11.95</td>\n",
       "      <td>06/23/19 19:34</td>\n",
       "      <td>950 Walnut St, Portland, ME 04101</td>\n",
       "    </tr>\n",
       "    <tr>\n",
       "      <th>1</th>\n",
       "      <td>209922</td>\n",
       "      <td>Macbook Pro Laptop</td>\n",
       "      <td>1</td>\n",
       "      <td>1700.0</td>\n",
       "      <td>06/30/19 10:05</td>\n",
       "      <td>80 4th St, San Francisco, CA 94016</td>\n",
       "    </tr>\n",
       "    <tr>\n",
       "      <th>2</th>\n",
       "      <td>209923</td>\n",
       "      <td>ThinkPad Laptop</td>\n",
       "      <td>1</td>\n",
       "      <td>999.99</td>\n",
       "      <td>06/24/19 20:18</td>\n",
       "      <td>402 Jackson St, Los Angeles, CA 90001</td>\n",
       "    </tr>\n",
       "    <tr>\n",
       "      <th>3</th>\n",
       "      <td>209924</td>\n",
       "      <td>27in FHD Monitor</td>\n",
       "      <td>1</td>\n",
       "      <td>149.99</td>\n",
       "      <td>06/05/19 10:21</td>\n",
       "      <td>560 10th St, Seattle, WA 98101</td>\n",
       "    </tr>\n",
       "    <tr>\n",
       "      <th>4</th>\n",
       "      <td>209925</td>\n",
       "      <td>Bose SoundSport Headphones</td>\n",
       "      <td>1</td>\n",
       "      <td>99.99</td>\n",
       "      <td>06/25/19 18:58</td>\n",
       "      <td>545 2nd St, San Francisco, CA 94016</td>\n",
       "    </tr>\n",
       "  </tbody>\n",
       "</table>\n",
       "</div>"
      ],
      "text/plain": [
       "  Order ID                     Product Quantity Ordered Price Each  \\\n",
       "0   209921        USB-C Charging Cable                1      11.95   \n",
       "1   209922          Macbook Pro Laptop                1     1700.0   \n",
       "2   209923             ThinkPad Laptop                1     999.99   \n",
       "3   209924            27in FHD Monitor                1     149.99   \n",
       "4   209925  Bose SoundSport Headphones                1      99.99   \n",
       "\n",
       "       Order Date                       Purchase Address  \n",
       "0  06/23/19 19:34      950 Walnut St, Portland, ME 04101  \n",
       "1  06/30/19 10:05     80 4th St, San Francisco, CA 94016  \n",
       "2  06/24/19 20:18  402 Jackson St, Los Angeles, CA 90001  \n",
       "3  06/05/19 10:21         560 10th St, Seattle, WA 98101  \n",
       "4  06/25/19 18:58    545 2nd St, San Francisco, CA 94016  "
      ]
     },
     "execution_count": 46,
     "metadata": {},
     "output_type": "execute_result"
    }
   ],
   "source": [
    "files = [file for file in os.listdir(\"./SalesAnalysis/Sales_Data/\")]\n",
    "all_monthly_data = pd.DataFrame()\n",
    "for file in files:\n",
    "    df = pd.read_csv(\"./SalesAnalysis/Sales_Data/\" + file)\n",
    "    all_monthly_data =pd.concat([all_monthly_data, df])\n",
    "    \n",
    "df.head()    \n",
    "    "
   ]
  },
  {
   "cell_type": "code",
   "execution_count": 32,
   "id": "939ad6de",
   "metadata": {},
   "outputs": [],
   "source": [
    "\n",
    "# pd.set_option('max_row', None)\n",
    "# print(df1)\n",
    "\n"
   ]
  },
  {
   "cell_type": "code",
   "execution_count": 43,
   "id": "6e7b63a5",
   "metadata": {},
   "outputs": [],
   "source": [
    "# print(df)"
   ]
  },
  {
   "cell_type": "code",
   "execution_count": 34,
   "id": "52407f70",
   "metadata": {},
   "outputs": [],
   "source": [
    "all_monthly_data.to_csv(\"all_data.csv\",index=False)"
   ]
  },
  {
   "cell_type": "code",
   "execution_count": 40,
   "id": "f3b9fb6f",
   "metadata": {},
   "outputs": [],
   "source": [
    "# dataframe converted to csv and reading all data"
   ]
  },
  {
   "cell_type": "code",
   "execution_count": 50,
   "id": "9fd90ff7",
   "metadata": {
    "scrolled": true
   },
   "outputs": [],
   "source": [
    "# all_data = pd.read_csv(\"all_data.csv\")\n",
    "# all_data.head()"
   ]
  },
  {
   "cell_type": "code",
   "execution_count": 49,
   "id": "6825488c",
   "metadata": {},
   "outputs": [],
   "source": [
    "# all_data.head()\n"
   ]
  },
  {
   "cell_type": "code",
   "execution_count": 16,
   "id": "8e20eb72",
   "metadata": {},
   "outputs": [],
   "source": [
    "all_data1 = all_data.loc[:, :'Unnamed: 0']"
   ]
  },
  {
   "cell_type": "code",
   "execution_count": 19,
   "id": "abef45d4",
   "metadata": {},
   "outputs": [],
   "source": [
    "all_data1 = all_data.loc[:, :'Purchase Address']"
   ]
  },
  {
   "cell_type": "code",
   "execution_count": 114,
   "id": "8969b1ea",
   "metadata": {},
   "outputs": [],
   "source": [
    "# all_data1.head()"
   ]
  },
  {
   "cell_type": "markdown",
   "id": "7146ee5e",
   "metadata": {},
   "source": [
    "## __Clean the data first before doing any calculations__"
   ]
  },
  {
   "cell_type": "markdown",
   "id": "0b8a35a4",
   "metadata": {},
   "source": [
    "# Drop rows of Nan"
   ]
  },
  {
   "cell_type": "markdown",
   "id": "95a32239",
   "metadata": {},
   "source": [
    "# 1.What was the best month for sales? How much was earned that month?\n"
   ]
  },
  {
   "cell_type": "code",
   "execution_count": 87,
   "id": "ed8a3131",
   "metadata": {},
   "outputs": [],
   "source": [
    "# adding months column\n",
    "all_data1[\"months\"] = all_data1[\"Order Date\"].str[0:2]"
   ]
  },
  {
   "cell_type": "code",
   "execution_count": 166,
   "id": "1d8a768e",
   "metadata": {},
   "outputs": [],
   "source": [
    "# taking the nan rows and putting the index of rows in a list to delete it.\n",
    "nan_rows =  all_data1[all_data1.isna().any(axis=1)]\n",
    "listofNanRowsIndex = [item for item in nan_rows.index ]\n",
    "# taking the OR rows and putting the index of rows in a list to delete it.\n",
    "\n",
    "OrRows = all_data1.loc[all_data1['months'] == \"Or\"]\n",
    "listOfOrRows = [ item for item in OrRows.index]\n",
    "all_data1.drop(listOfOrRows, axis=0, inplace=True)\n",
    "\n"
   ]
  },
  {
   "cell_type": "code",
   "execution_count": 192,
   "id": "1ff35eb2",
   "metadata": {},
   "outputs": [],
   "source": [
    "# all_data1.to_csv(\"all_data3.csv\",index=False)\n",
    "all_data1.rename(columns = {'months':'month'}, inplace = True)\n"
   ]
  },
  {
   "cell_type": "code",
   "execution_count": 177,
   "id": "ba0d0a84",
   "metadata": {},
   "outputs": [],
   "source": [
    "all_data1[\"months\"] =  all_data1[\"months\"].astype(\"int32\")\n",
    "all_data1['Quantity Ordered'] = pd.to_numeric(all_data1['Quantity Ordered'])\n",
    "all_data1[\"Price Each\"] = pd.to_numeric(all_data1[\"Price Each\"])\n",
    "# make an amount column that multiplies quantity and price for all\n",
    "# add the amount column where months is same. Just using groupby is easier\n",
    "# compare them and see.\n"
   ]
  },
  {
   "cell_type": "code",
   "execution_count": 188,
   "id": "ce0b535e",
   "metadata": {
    "scrolled": true
   },
   "outputs": [],
   "source": [
    "all_data1[\"Amount\"] = all_data1['Quantity Ordered'] * all_data1[\"Price Each\"]"
   ]
  },
  {
   "cell_type": "code",
   "execution_count": 199,
   "id": "780e3a2e",
   "metadata": {},
   "outputs": [
    {
     "name": "stdout",
     "output_type": "stream",
     "text": [
      "       Quantity Ordered  Price Each      Amount\n",
      "month                                          \n",
      "1                 10903  1811768.38  1822256.73\n",
      "2                 13449  2188884.72  2202022.42\n",
      "3                 17005  2791207.83  2807100.38\n",
      "4                 20558  3367671.02  3390670.24\n",
      "5                 18667  3135125.13  3152606.75\n",
      "6                 15253  2562025.61  2577802.26\n",
      "7                 16072  2632539.56  2647775.76\n",
      "8                 13448  2230345.42  2244467.88\n",
      "9                 13109  2084992.09  2097560.13\n",
      "10                22703  3715554.83  3736726.88\n",
      "11                19798  3180600.68  3199603.20\n",
      "12                28114  4588415.41  4613443.34\n"
     ]
    }
   ],
   "source": [
    "results = all_data1.groupby('month').sum()\n",
    "print(results)"
   ]
  },
  {
   "cell_type": "code",
   "execution_count": 209,
   "id": "f0b22539",
   "metadata": {
    "scrolled": true
   },
   "outputs": [
    {
     "data": {
      "image/png": "[encoded data removed]",
      "text/plain": [
       "<Figure size 432x288 with 1 Axes>"
      ]
     },
     "metadata": {
      "needs_background": "light"
     },
     "output_type": "display_data"
    }
   ],
   "source": [
    "month = range(1,13)\n",
    "plt.bar(month, results[\"Amount\"])\n",
    "plt.xticks(month)\n",
    "plt.ylabel(\"Earnings in Us dollars\")\n",
    "plt.xlabel(\"Months\")\n",
    "plt.show()\n"
   ]
  },
  {
   "cell_type": "markdown",
   "id": "f605ba1d",
   "metadata": {},
   "source": [
    "# 2. which city has the highest sales"
   ]
  },
  {
   "cell_type": "code",
   "execution_count": null,
   "id": "559ea752",
   "metadata": {},
   "outputs": [],
   "source": []
  },
  {
   "cell_type": "code",
   "execution_count": 279,
   "id": "cd5fcf69",
   "metadata": {},
   "outputs": [],
   "source": [
    "city = []\n",
    "for i in all_data1[\"Purchase Address\"]:\n",
    "    element = i.split(',')\n",
    "    city.append(element[1] + \" \" + \"(\" + element[2].split( )[0] + \")\")\n",
    "all_data1['City'] = city"
   ]
  },
  {
   "cell_type": "code",
   "execution_count": 243,
   "id": "d06bfa24",
   "metadata": {},
   "outputs": [],
   "source": [
    "all_data1.rename(columns = {'City1':'City'}, inplace = True)\n",
    "# all_data1.drop(columns = \"city\", inplace = True)\n"
   ]
  },
  {
   "cell_type": "code",
   "execution_count": null,
   "id": "c6055bdf",
   "metadata": {},
   "outputs": [],
   "source": [
    "# all_data1.loc[all_data1['Amount'].idxmax()]\n",
    "results = all_data1.groupby('City').sum()\n",
    "print(results[\"Amount\"])"
   ]
  },
  {
   "cell_type": "code",
   "execution_count": 271,
   "id": "c1d54cf7",
   "metadata": {},
   "outputs": [
    {
     "data": {
      "image/png": "[encoded data removed]",
      "text/plain": [
       "<Figure size 432x288 with 1 Axes>"
      ]
     },
     "metadata": {
      "needs_background": "light"
     },
     "output_type": "display_data"
    }
   ],
   "source": [
    "cities = all_data1[\"City\"].unique()\n",
    "main_cities = np.sort(cities)\n",
    "plt.bar(main_cities, results[\"Amount\"])\n",
    "plt.xticks(main_cities , rotation = \"vertical\", size =8)\n",
    "plt.ylabel(\"Earnings in Us dollars\")\n",
    "plt.xlabel(\"Cities\")\n",
    "plt.show()"
   ]
  },
  {
   "cell_type": "code",
   "execution_count": 284,
   "id": "a40919ee",
   "metadata": {},
   "outputs": [
    {
     "data": {
      "text/html": [
       "<div>\n",
       "<style scoped>\n",
       "    .dataframe tbody tr th:only-of-type {\n",
       "        vertical-align: middle;\n",
       "    }\n",
       "\n",
       "    .dataframe tbody tr th {\n",
       "        vertical-align: top;\n",
       "    }\n",
       "\n",
       "    .dataframe thead th {\n",
       "        text-align: right;\n",
       "    }\n",
       "</style>\n",
       "<table border=\"1\" class=\"dataframe\">\n",
       "  <thead>\n",
       "    <tr style=\"text-align: right;\">\n",
       "      <th></th>\n",
       "      <th>Order ID</th>\n",
       "      <th>Product</th>\n",
       "      <th>Quantity Ordered</th>\n",
       "      <th>Price Each</th>\n",
       "      <th>Order Date</th>\n",
       "      <th>Purchase Address</th>\n",
       "      <th>month</th>\n",
       "      <th>Amount</th>\n",
       "      <th>City</th>\n",
       "    </tr>\n",
       "  </thead>\n",
       "  <tbody>\n",
       "    <tr>\n",
       "      <th>0</th>\n",
       "      <td>248151</td>\n",
       "      <td>AA Batteries (4-pack)</td>\n",
       "      <td>4</td>\n",
       "      <td>3.84</td>\n",
       "      <td>2019-09-17 14:44:00</td>\n",
       "      <td>380 North St, Los Angeles, CA 90001</td>\n",
       "      <td>9</td>\n",
       "      <td>15.36</td>\n",
       "      <td>Los Angeles (CA)</td>\n",
       "    </tr>\n",
       "    <tr>\n",
       "      <th>1</th>\n",
       "      <td>248152</td>\n",
       "      <td>USB-C Charging Cable</td>\n",
       "      <td>2</td>\n",
       "      <td>11.95</td>\n",
       "      <td>2019-09-29 10:19:00</td>\n",
       "      <td>511 8th St, Austin, TX 73301</td>\n",
       "      <td>9</td>\n",
       "      <td>23.90</td>\n",
       "      <td>Austin (TX)</td>\n",
       "    </tr>\n",
       "    <tr>\n",
       "      <th>2</th>\n",
       "      <td>248153</td>\n",
       "      <td>USB-C Charging Cable</td>\n",
       "      <td>1</td>\n",
       "      <td>11.95</td>\n",
       "      <td>2019-09-16 17:48:00</td>\n",
       "      <td>151 Johnson St, Los Angeles, CA 90001</td>\n",
       "      <td>9</td>\n",
       "      <td>11.95</td>\n",
       "      <td>Los Angeles (CA)</td>\n",
       "    </tr>\n",
       "    <tr>\n",
       "      <th>3</th>\n",
       "      <td>248154</td>\n",
       "      <td>27in FHD Monitor</td>\n",
       "      <td>1</td>\n",
       "      <td>149.99</td>\n",
       "      <td>2019-09-27 07:52:00</td>\n",
       "      <td>355 Hickory St, Seattle, WA 98101</td>\n",
       "      <td>9</td>\n",
       "      <td>149.99</td>\n",
       "      <td>Seattle (WA)</td>\n",
       "    </tr>\n",
       "    <tr>\n",
       "      <th>4</th>\n",
       "      <td>248155</td>\n",
       "      <td>USB-C Charging Cable</td>\n",
       "      <td>1</td>\n",
       "      <td>11.95</td>\n",
       "      <td>2019-09-01 19:03:00</td>\n",
       "      <td>125 5th St, Atlanta, GA 30301</td>\n",
       "      <td>9</td>\n",
       "      <td>11.95</td>\n",
       "      <td>Atlanta (GA)</td>\n",
       "    </tr>\n",
       "  </tbody>\n",
       "</table>\n",
       "</div>"
      ],
      "text/plain": [
       "  Order ID                Product  Quantity Ordered  Price Each  \\\n",
       "0   248151  AA Batteries (4-pack)                 4        3.84   \n",
       "1   248152   USB-C Charging Cable                 2       11.95   \n",
       "2   248153   USB-C Charging Cable                 1       11.95   \n",
       "3   248154       27in FHD Monitor                 1      149.99   \n",
       "4   248155   USB-C Charging Cable                 1       11.95   \n",
       "\n",
       "           Order Date                       Purchase Address  month  Amount  \\\n",
       "0 2019-09-17 14:44:00    380 North St, Los Angeles, CA 90001      9   15.36   \n",
       "1 2019-09-29 10:19:00           511 8th St, Austin, TX 73301      9   23.90   \n",
       "2 2019-09-16 17:48:00  151 Johnson St, Los Angeles, CA 90001      9   11.95   \n",
       "3 2019-09-27 07:52:00      355 Hickory St, Seattle, WA 98101      9  149.99   \n",
       "4 2019-09-01 19:03:00          125 5th St, Atlanta, GA 30301      9   11.95   \n",
       "\n",
       "                City  \n",
       "0   Los Angeles (CA)  \n",
       "1        Austin (TX)  \n",
       "2   Los Angeles (CA)  \n",
       "3       Seattle (WA)  \n",
       "4       Atlanta (GA)  "
      ]
     },
     "execution_count": 284,
     "metadata": {},
     "output_type": "execute_result"
    }
   ],
   "source": [
    "all_data1.head()"
   ]
  },
  {
   "cell_type": "markdown",
   "id": "bdd3c0bd",
   "metadata": {},
   "source": [
    "### 3. At what time should we do advertisement to increase the likelihood of customer buying the product?\n"
   ]
  },
  {
   "cell_type": "code",
   "execution_count": 281,
   "id": "4944c762",
   "metadata": {},
   "outputs": [],
   "source": [
    "all_data1[\"Order Date\"] = pd.to_datetime(all_data1[\"Order Date\"])"
   ]
  },
  {
   "cell_type": "code",
   "execution_count": 326,
   "id": "d06819d0",
   "metadata": {
    "scrolled": true
   },
   "outputs": [
    {
     "data": {
      "text/html": [
       "<div>\n",
       "<style scoped>\n",
       "    .dataframe tbody tr th:only-of-type {\n",
       "        vertical-align: middle;\n",
       "    }\n",
       "\n",
       "    .dataframe tbody tr th {\n",
       "        vertical-align: top;\n",
       "    }\n",
       "\n",
       "    .dataframe thead th {\n",
       "        text-align: right;\n",
       "    }\n",
       "</style>\n",
       "<table border=\"1\" class=\"dataframe\">\n",
       "  <thead>\n",
       "    <tr style=\"text-align: right;\">\n",
       "      <th></th>\n",
       "      <th>Order ID</th>\n",
       "      <th>Product</th>\n",
       "      <th>Quantity Ordered</th>\n",
       "      <th>Price Each</th>\n",
       "      <th>Order Date</th>\n",
       "      <th>Purchase Address</th>\n",
       "      <th>month</th>\n",
       "      <th>Amount</th>\n",
       "      <th>City</th>\n",
       "      <th>Hour</th>\n",
       "      <th>Minute</th>\n",
       "    </tr>\n",
       "  </thead>\n",
       "  <tbody>\n",
       "    <tr>\n",
       "      <th>0</th>\n",
       "      <td>248151</td>\n",
       "      <td>AA Batteries (4-pack)</td>\n",
       "      <td>4</td>\n",
       "      <td>3.84</td>\n",
       "      <td>2019-09-17 14:44:00</td>\n",
       "      <td>380 North St, Los Angeles, CA 90001</td>\n",
       "      <td>9</td>\n",
       "      <td>15.36</td>\n",
       "      <td>Los Angeles (CA)</td>\n",
       "      <td>14</td>\n",
       "      <td>44</td>\n",
       "    </tr>\n",
       "    <tr>\n",
       "      <th>1</th>\n",
       "      <td>248152</td>\n",
       "      <td>USB-C Charging Cable</td>\n",
       "      <td>2</td>\n",
       "      <td>11.95</td>\n",
       "      <td>2019-09-29 10:19:00</td>\n",
       "      <td>511 8th St, Austin, TX 73301</td>\n",
       "      <td>9</td>\n",
       "      <td>23.90</td>\n",
       "      <td>Austin (TX)</td>\n",
       "      <td>10</td>\n",
       "      <td>19</td>\n",
       "    </tr>\n",
       "    <tr>\n",
       "      <th>2</th>\n",
       "      <td>248153</td>\n",
       "      <td>USB-C Charging Cable</td>\n",
       "      <td>1</td>\n",
       "      <td>11.95</td>\n",
       "      <td>2019-09-16 17:48:00</td>\n",
       "      <td>151 Johnson St, Los Angeles, CA 90001</td>\n",
       "      <td>9</td>\n",
       "      <td>11.95</td>\n",
       "      <td>Los Angeles (CA)</td>\n",
       "      <td>17</td>\n",
       "      <td>48</td>\n",
       "    </tr>\n",
       "    <tr>\n",
       "      <th>3</th>\n",
       "      <td>248154</td>\n",
       "      <td>27in FHD Monitor</td>\n",
       "      <td>1</td>\n",
       "      <td>149.99</td>\n",
       "      <td>2019-09-27 07:52:00</td>\n",
       "      <td>355 Hickory St, Seattle, WA 98101</td>\n",
       "      <td>9</td>\n",
       "      <td>149.99</td>\n",
       "      <td>Seattle (WA)</td>\n",
       "      <td>7</td>\n",
       "      <td>52</td>\n",
       "    </tr>\n",
       "    <tr>\n",
       "      <th>4</th>\n",
       "      <td>248155</td>\n",
       "      <td>USB-C Charging Cable</td>\n",
       "      <td>1</td>\n",
       "      <td>11.95</td>\n",
       "      <td>2019-09-01 19:03:00</td>\n",
       "      <td>125 5th St, Atlanta, GA 30301</td>\n",
       "      <td>9</td>\n",
       "      <td>11.95</td>\n",
       "      <td>Atlanta (GA)</td>\n",
       "      <td>19</td>\n",
       "      <td>3</td>\n",
       "    </tr>\n",
       "  </tbody>\n",
       "</table>\n",
       "</div>"
      ],
      "text/plain": [
       "  Order ID                Product  Quantity Ordered  Price Each  \\\n",
       "0   248151  AA Batteries (4-pack)                 4        3.84   \n",
       "1   248152   USB-C Charging Cable                 2       11.95   \n",
       "2   248153   USB-C Charging Cable                 1       11.95   \n",
       "3   248154       27in FHD Monitor                 1      149.99   \n",
       "4   248155   USB-C Charging Cable                 1       11.95   \n",
       "\n",
       "           Order Date                       Purchase Address  month  Amount  \\\n",
       "0 2019-09-17 14:44:00    380 North St, Los Angeles, CA 90001      9   15.36   \n",
       "1 2019-09-29 10:19:00           511 8th St, Austin, TX 73301      9   23.90   \n",
       "2 2019-09-16 17:48:00  151 Johnson St, Los Angeles, CA 90001      9   11.95   \n",
       "3 2019-09-27 07:52:00      355 Hickory St, Seattle, WA 98101      9  149.99   \n",
       "4 2019-09-01 19:03:00          125 5th St, Atlanta, GA 30301      9   11.95   \n",
       "\n",
       "                City  Hour  Minute  \n",
       "0   Los Angeles (CA)    14      44  \n",
       "1        Austin (TX)    10      19  \n",
       "2   Los Angeles (CA)    17      48  \n",
       "3       Seattle (WA)     7      52  \n",
       "4       Atlanta (GA)    19       3  "
      ]
     },
     "execution_count": 326,
     "metadata": {},
     "output_type": "execute_result"
    }
   ],
   "source": [
    "all_data1.head()"
   ]
  },
  {
   "cell_type": "code",
   "execution_count": 288,
   "id": "ddef67c3",
   "metadata": {},
   "outputs": [],
   "source": [
    "all_data1[\"Hour\"] = all_data1[\"Order Date\"].dt.hour\n",
    "all_data1[\"Minute\"] = all_data1[\"Order Date\"].dt.minute"
   ]
  },
  {
   "cell_type": "code",
   "execution_count": 325,
   "id": "0514bd1c",
   "metadata": {},
   "outputs": [
    {
     "data": {
      "image/png": "[encoded data removed]",
      "text/plain": [
       "<Figure size 432x288 with 1 Axes>"
      ]
     },
     "metadata": {
      "needs_background": "light"
     },
     "output_type": "display_data"
    }
   ],
   "source": [
    "hours = all_data1[\"Hour\"].unique()\n",
    "hourMain =  np.sort(hours)\n",
    "orderDone = all_data1.groupby(\"Hour\").count()\n",
    "plt.plot(hourMain,orderDone[\"Order Date\"])\n",
    "plt.xticks(hourMain)\n",
    "plt.xlabel(\"Hour\")\n",
    "plt.ylabel(\"Orders assigned!\")\n",
    "plt.show()\n"
   ]
  },
  {
   "cell_type": "markdown",
   "id": "bee3045e",
   "metadata": {},
   "source": [
    "# What products are most often sold  together?"
   ]
  },
  {
   "cell_type": "code",
   "execution_count": 348,
   "id": "278ef9ef",
   "metadata": {},
   "outputs": [],
   "source": [
    "#solution overview:\n",
    "first, make a new dataframe from all_data1 , where the column \"Order Id\" is duplicated\n",
    "then, do a groupby that shows different Products name as a list respective to the order ID.\n",
    "then, convert it to csv and then open it using read_csv( seemed necessary because of Product header missing.)\n",
    "now, make a nested lists of lists in ascending order to use in itertools.\n"
   ]
  },
  {
   "cell_type": "code",
   "execution_count": 353,
   "id": "f43875cd",
   "metadata": {},
   "outputs": [],
   "source": [
    "df1  = all_data1[all_data1[\"Order ID\"].duplicated(keep=False)]"
   ]
  },
  {
   "cell_type": "code",
   "execution_count": 376,
   "id": "ccd3c546",
   "metadata": {},
   "outputs": [],
   "source": [
    "df2 = df1.groupby('Order ID')['Product'].apply(list)\n",
    "df2.head()\n",
    "df2.to_csv(\"repeated_products.csv\",index=True)"
   ]
  },
  {
   "cell_type": "code",
   "execution_count": 470,
   "id": "485e6439",
   "metadata": {},
   "outputs": [
    {
     "data": {
      "text/html": [
       "<div>\n",
       "<style scoped>\n",
       "    .dataframe tbody tr th:only-of-type {\n",
       "        vertical-align: middle;\n",
       "    }\n",
       "\n",
       "    .dataframe tbody tr th {\n",
       "        vertical-align: top;\n",
       "    }\n",
       "\n",
       "    .dataframe thead th {\n",
       "        text-align: right;\n",
       "    }\n",
       "</style>\n",
       "<table border=\"1\" class=\"dataframe\">\n",
       "  <thead>\n",
       "    <tr style=\"text-align: right;\">\n",
       "      <th></th>\n",
       "      <th>Order ID</th>\n",
       "      <th>Product</th>\n",
       "    </tr>\n",
       "  </thead>\n",
       "  <tbody>\n",
       "    <tr>\n",
       "      <th>0</th>\n",
       "      <td>141275</td>\n",
       "      <td>['USB-C Charging Cable', 'Wired Headphones']</td>\n",
       "    </tr>\n",
       "    <tr>\n",
       "      <th>1</th>\n",
       "      <td>141290</td>\n",
       "      <td>['Apple Airpods Headphones', 'AA Batteries (4-...</td>\n",
       "    </tr>\n",
       "    <tr>\n",
       "      <th>2</th>\n",
       "      <td>141365</td>\n",
       "      <td>['Vareebadd Phone', 'Wired Headphones']</td>\n",
       "    </tr>\n",
       "    <tr>\n",
       "      <th>3</th>\n",
       "      <td>141384</td>\n",
       "      <td>['Google Phone', 'USB-C Charging Cable']</td>\n",
       "    </tr>\n",
       "    <tr>\n",
       "      <th>4</th>\n",
       "      <td>141450</td>\n",
       "      <td>['Google Phone', 'Bose SoundSport Headphones']</td>\n",
       "    </tr>\n",
       "  </tbody>\n",
       "</table>\n",
       "</div>"
      ],
      "text/plain": [
       "   Order ID                                            Product\n",
       "0    141275       ['USB-C Charging Cable', 'Wired Headphones']\n",
       "1    141290  ['Apple Airpods Headphones', 'AA Batteries (4-...\n",
       "2    141365            ['Vareebadd Phone', 'Wired Headphones']\n",
       "3    141384           ['Google Phone', 'USB-C Charging Cable']\n",
       "4    141450     ['Google Phone', 'Bose SoundSport Headphones']"
      ]
     },
     "execution_count": 470,
     "metadata": {},
     "output_type": "execute_result"
    }
   ],
   "source": [
    "df3 = pd.read_csv(\"./repeated_products.csv\")\n",
    "df3.head()"
   ]
  },
  {
   "cell_type": "code",
   "execution_count": 471,
   "id": "32836fb0",
   "metadata": {},
   "outputs": [],
   "source": [
    "nestedList = []\n",
    "for i in df3[\"Product\"]:\n",
    "    nestedList.append(i)\n"
   ]
  },
  {
   "cell_type": "code",
   "execution_count": 472,
   "id": "620763d5",
   "metadata": {},
   "outputs": [
    {
     "name": "stdout",
     "output_type": "stream",
     "text": [
      "USB-C Charging Cable\n"
     ]
    }
   ],
   "source": [
    "# data manipulation to get list of lists to use in itertools\n",
    "ultimate_list =[]\n",
    "for i in range(len(df3)):\n",
    "    final = nestedList[i][2:-2].split(',')\n",
    "    final_list =[]\n",
    "    for i in range(len(final)):\n",
    "        newfinal = final[i].replace(\"'\", \"\")\n",
    "        final_list.append(newfinal)\n",
    "    ultimate_list.append(final_list)\n",
    "\n",
    "   \n",
    "print(ultimate_list[0][0])"
   ]
  },
  {
   "cell_type": "code",
   "execution_count": 484,
   "id": "869bd541",
   "metadata": {},
   "outputs": [
    {
     "name": "stdout",
     "output_type": "stream",
     "text": [
      "('Google Phone', ' USB-C Charging Cable', ' Wired Headphones') 87\n",
      "('iPhone', ' Lightning Charging Cable', ' Wired Headphones') 62\n",
      "('iPhone', ' Lightning Charging Cable', ' Apple Airpods Headphones') 47\n",
      "('Google Phone', ' USB-C Charging Cable', ' Bose SoundSport Headphones') 35\n",
      "('Vareebadd Phone', ' USB-C Charging Cable', ' Wired Headphones') 33\n",
      "('iPhone', ' Apple Airpods Headphones', ' Wired Headphones') 27\n",
      "('Google Phone', ' Bose SoundSport Headphones', ' Wired Headphones') 24\n",
      "('Vareebadd Phone', ' USB-C Charging Cable', ' Bose SoundSport Headphones') 16\n",
      "('Vareebadd Phone', ' Bose SoundSport Headphones', ' Wired Headphones') 5\n",
      "(' USB-C Charging Cable', ' Bose SoundSport Headphones', ' Wired Headphones') 5\n",
      "('Google Phone', ' USB-C Charging Cable', ' Wired Headphones') 87\n",
      "('iPhone', ' Lightning Charging Cable', ' Wired Headphones') 62\n",
      "('iPhone', ' Lightning Charging Cable', ' Apple Airpods Headphones') 47\n",
      "('Google Phone', ' USB-C Charging Cable', ' Bose SoundSport Headphones') 35\n",
      "('Vareebadd Phone', ' USB-C Charging Cable', ' Wired Headphones') 33\n",
      "('iPhone', ' Apple Airpods Headphones', ' Wired Headphones') 27\n",
      "('Google Phone', ' Bose SoundSport Headphones', ' Wired Headphones') 24\n",
      "('Vareebadd Phone', ' USB-C Charging Cable', ' Bose SoundSport Headphones') 16\n",
      "('Vareebadd Phone', ' Bose SoundSport Headphones', ' Wired Headphones') 5\n",
      "(' USB-C Charging Cable', ' Bose SoundSport Headphones', ' Wired Headphones') 5\n",
      "('Google Phone', ' USB-C Charging Cable', ' Wired Headphones') 87\n",
      "('iPhone', ' Lightning Charging Cable', ' Wired Headphones') 62\n",
      "('iPhone', ' Lightning Charging Cable', ' Apple Airpods Headphones') 47\n",
      "('Google Phone', ' USB-C Charging Cable', ' Bose SoundSport Headphones') 35\n",
      "('Vareebadd Phone', ' USB-C Charging Cable', ' Wired Headphones') 33\n",
      "('iPhone', ' Apple Airpods Headphones', ' Wired Headphones') 27\n",
      "('Google Phone', ' Bose SoundSport Headphones', ' Wired Headphones') 24\n",
      "('Vareebadd Phone', ' USB-C Charging Cable', ' Bose SoundSport Headphones') 16\n",
      "('Vareebadd Phone', ' Bose SoundSport Headphones', ' Wired Headphones') 5\n",
      "(' USB-C Charging Cable', ' Bose SoundSport Headphones', ' Wired Headphones') 5\n"
     ]
    }
   ],
   "source": [
    "# code to find the most frequent combination of 2 elements in a list out of many lists.\n",
    "from itertools import combinations\n",
    "from collections import Counter\n",
    "\n",
    "def most_freq(l, n):\n",
    "    temp=[]\n",
    "    for i in l:\n",
    "        temp.extend(tuple(k) for k in combinations(i, n))\n",
    "    res = Counter(temp)\n",
    "    return res\n",
    "\n",
    "for i in range(2,5):\n",
    "    for key, value in most_freq(ultimate_list, 2).most_common(10):\n",
    "        print(key, value)"
   ]
  },
  {
   "cell_type": "code",
   "execution_count": 468,
   "id": "111b9516",
   "metadata": {},
   "outputs": [
    {
     "name": "stderr",
     "output_type": "stream",
     "text": [
      "/tmp/ipykernel_32650/546756339.py:3: SettingWithCopyWarning: \n",
      "A value is trying to be set on a copy of a slice from a DataFrame.\n",
      "Try using .loc[row_indexer,col_indexer] = value instead\n",
      "\n",
      "See the caveats in the documentation: https://pandas.pydata.org/pandas-docs/stable/user_guide/indexing.html#returning-a-view-versus-a-copy\n",
      "  df4[\"Grouped\"] = df4.groupby(\"Order ID\")['Product'].transform(lambda x: ','.join(x))\n"
     ]
    },
    {
     "data": {
      "text/html": [
       "<div>\n",
       "<style scoped>\n",
       "    .dataframe tbody tr th:only-of-type {\n",
       "        vertical-align: middle;\n",
       "    }\n",
       "\n",
       "    .dataframe tbody tr th {\n",
       "        vertical-align: top;\n",
       "    }\n",
       "\n",
       "    .dataframe thead th {\n",
       "        text-align: right;\n",
       "    }\n",
       "</style>\n",
       "<table border=\"1\" class=\"dataframe\">\n",
       "  <thead>\n",
       "    <tr style=\"text-align: right;\">\n",
       "      <th></th>\n",
       "      <th>Grouped</th>\n",
       "      <th>Order ID</th>\n",
       "    </tr>\n",
       "  </thead>\n",
       "  <tbody>\n",
       "    <tr>\n",
       "      <th>20</th>\n",
       "      <td>USB-C Charging Cable,USB-C Charging Cable</td>\n",
       "      <td>248171</td>\n",
       "    </tr>\n",
       "    <tr>\n",
       "      <th>60</th>\n",
       "      <td>iPhone,Lightning Charging Cable</td>\n",
       "      <td>248210</td>\n",
       "    </tr>\n",
       "    <tr>\n",
       "      <th>70</th>\n",
       "      <td>Bose SoundSport Headphones,Google Phone</td>\n",
       "      <td>248219</td>\n",
       "    </tr>\n",
       "    <tr>\n",
       "      <th>117</th>\n",
       "      <td>Vareebadd Phone,Bose SoundSport Headphones</td>\n",
       "      <td>248265</td>\n",
       "    </tr>\n",
       "    <tr>\n",
       "      <th>176</th>\n",
       "      <td>Google Phone,Bose SoundSport Headphones</td>\n",
       "      <td>248323</td>\n",
       "    </tr>\n",
       "  </tbody>\n",
       "</table>\n",
       "</div>"
      ],
      "text/plain": [
       "                                        Grouped Order ID\n",
       "20    USB-C Charging Cable,USB-C Charging Cable   248171\n",
       "60              iPhone,Lightning Charging Cable   248210\n",
       "70      Bose SoundSport Headphones,Google Phone   248219\n",
       "117  Vareebadd Phone,Bose SoundSport Headphones   248265\n",
       "176     Google Phone,Bose SoundSport Headphones   248323"
      ]
     },
     "execution_count": 468,
     "metadata": {},
     "output_type": "execute_result"
    }
   ],
   "source": [
    "#Keith Galli's solution:\n",
    "df4  = all_data1[all_data1[\"Order ID\"].duplicated(keep=False)]\n",
    "df4[\"Grouped\"] = df4.groupby(\"Order ID\")['Product'].transform(lambda x: ','.join(x))\n",
    "df4 =df3[[\"Grouped\", \"Order ID\"]].drop_duplicates()\n",
    "df4.head()"
   ]
  },
  {
   "cell_type": "code",
   "execution_count": 477,
   "id": "adb00d39",
   "metadata": {},
   "outputs": [],
   "source": [
    "# dfe = df4[\"Grouped\"]\n",
    "# nestedList1 = []\n",
    "# for i in df3[\"Product\"]:\n",
    "#     nestedList1.append(i)\n",
    "# print(nestedList1[0][0])    \n",
    "# if we try to see the  [0][0] ,we get one letter like before. so, instead of that, just,,\n"
   ]
  },
  {
   "cell_type": "code",
   "execution_count": 479,
   "id": "0be833e6",
   "metadata": {},
   "outputs": [],
   "source": [
    "# code to find the most frequent combination of 2 elements in a list out of many lists.\n",
    "from itertools import combinations\n",
    "from collections import Counter\n",
    "\n",
    "count = Counter()\n",
    "\n",
    "for row in df4[\"Grouped\"]:\n",
    "    row_list = row.split(\",\")\n",
    "    count.update(Counter(combinations(row_list,2)))\n",
    "print(count)    \n",
    "# so the only difference is me trying to manipulate apostrophee, which was unnecessary. just split the string \n",
    "# to make it a list and that will work with itertools."
   ]
  },
  {
   "cell_type": "markdown",
   "id": "858cecfd",
   "metadata": {},
   "source": [
    "# What product sold the most and why ?\n"
   ]
  },
  {
   "cell_type": "code",
   "execution_count": 503,
   "id": "55caa555",
   "metadata": {},
   "outputs": [
    {
     "data": {
      "image/png": "[encoded data removed]",
      "text/plain": [
       "<Figure size 432x288 with 1 Axes>"
      ]
     },
     "metadata": {
      "needs_background": "light"
     },
     "output_type": "display_data"
    }
   ],
   "source": [
    "import seaborn as sns\n",
    "product = all_data1[\"Product\"].unique()\n",
    "main_product =  np.sort(product)\n",
    "groupedProduct = all_data1.groupby(\"Product\").sum()[\"Quantity Ordered\"]\n",
    "plt.bar(main_product,groupedProduct)\n",
    "plt.xticks(main_product, rotation =\"vertical\")\n",
    "plt.xlabel(\"Product\")\n",
    "plt.ylabel(\"Number ordered\")\n",
    "plt.show()\n"
   ]
  },
  {
   "cell_type": "markdown",
   "id": "af2e6eb3",
   "metadata": {},
   "source": [
    "# prices"
   ]
  },
  {
   "cell_type": "code",
   "execution_count": 500,
   "id": "b4b179b5",
   "metadata": {},
   "outputs": [
    {
     "name": "stdout",
     "output_type": "stream",
     "text": [
      "Product\n",
      "20in Monitor                   109.99\n",
      "27in 4K Gaming Monitor         389.99\n",
      "27in FHD Monitor               149.99\n",
      "34in Ultrawide Monitor         379.99\n",
      "AA Batteries (4-pack)            3.84\n",
      "AAA Batteries (4-pack)           2.99\n",
      "Apple Airpods Headphones       150.00\n",
      "Bose SoundSport Headphones      99.99\n",
      "Flatscreen TV                  300.00\n",
      "Google Phone                   600.00\n",
      "LG Dryer                       600.00\n",
      "LG Washing Machine             600.00\n",
      "Lightning Charging Cable        14.95\n",
      "Macbook Pro Laptop            1700.00\n",
      "ThinkPad Laptop                999.99\n",
      "USB-C Charging Cable            11.95\n",
      "Vareebadd Phone                400.00\n",
      "Wired Headphones                11.99\n",
      "iPhone                         700.00\n",
      "Name: Price Each, dtype: float64\n"
     ]
    }
   ],
   "source": [
    "prices = all_data1.groupby(\"Product\").mean()['Price Each']\n",
    "print(prices)"
   ]
  },
  {
   "cell_type": "code",
   "execution_count": 504,
   "id": "0dde2c5b",
   "metadata": {},
   "outputs": [
    {
     "name": "stderr",
     "output_type": "stream",
     "text": [
      "/tmp/ipykernel_32650/447423469.py:9: UserWarning: FixedFormatter should only be used together with FixedLocator\n",
      "  ax1.set_xticklabels(main_product, rotation='vertical', size=8)\n",
      "/tmp/ipykernel_32650/447423469.py:11: UserWarning: Matplotlib is currently using module://matplotlib_inline.backend_inline, which is a non-GUI backend, so cannot show the figure.\n",
      "  fig.show()\n"
     ]
    },
    {
     "data": {
      "image/png": "[encoded data removed]",
      "text/plain": [
       "<Figure size 432x288 with 2 Axes>"
      ]
     },
     "metadata": {
      "needs_background": "light"
     },
     "output_type": "display_data"
    }
   ],
   "source": [
    "fig, ax1 = plt.subplots()\n",
    "ax2 = ax1.twinx()\n",
    "ax1.bar(main_product, groupedProduct, color='g')\n",
    "ax2.plot(main_product, prices, color='b')\n",
    "\n",
    "ax1.set_xlabel('Product Name')\n",
    "ax1.set_ylabel('Quantity Ordered', color='g')\n",
    "ax2.set_ylabel('Price ($)', color='b')\n",
    "ax1.set_xticklabels(main_product, rotation='vertical', size=8)\n",
    "\n",
    "fig.show()"
   ]
  },
  {
   "cell_type": "code",
   "execution_count": null,
   "id": "c80ba0e3",
   "metadata": {},
   "outputs": [],
   "source": []
  }
 ],
 "metadata": {
  "kernelspec": {
   "display_name": "Python 3.10.4 64-bit",
   "language": "python",
   "name": "python3"
  },
  "language_info": {
   "codemirror_mode": {
    "name": "ipython",
    "version": 3
   },
   "file_extension": ".py",
   "mimetype": "text/x-python",
   "name": "python",
   "nbconvert_exporter": "python",
   "pygments_lexer": "ipython3",
   "version": "3.10.4"
  },
  "vscode": {
   "interpreter": {
    "hash": "916dbcbb3f70747c44a77c7bcd40155683ae19c65e1c03b4aa3499c5328201f1"
   }
  }
 },
 "nbformat": 4,
 "nbformat_minor": 5
}
